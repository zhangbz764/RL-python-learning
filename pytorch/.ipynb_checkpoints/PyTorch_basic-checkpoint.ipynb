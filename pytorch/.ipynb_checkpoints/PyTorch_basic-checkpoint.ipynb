{
 "cells": [
  {
   "cell_type": "markdown",
   "id": "aa9edbae",
   "metadata": {},
   "source": [
    "---\n",
    "\n",
    "author: zhangbz  \n",
    "project: python-test  \n",
    "date: 2022/11/2  \n",
    "description:    \n",
    "\n",
    "---"
   ]
  },
  {
   "cell_type": "markdown",
   "id": "fb731568",
   "metadata": {},
   "source": [
    "<span id=\"jump\"><h1>目录</h1></span>\n",
    "* [0-基础](#0-基础)\n",
    "    * [0.1-基本使用](#0.1-基本使用)\n",
    "    * [0.2-与numpy转换](#0.2-与numpy转换)\n",
    "\n",
    "\n",
    "* [1-梯度与回归](#1-梯度与回归)\n",
    "    * [1.1-梯度计算](#1.1-梯度计算)\n",
    "        * [1.1.1-基本方法](#1.1.1-基本方法)\n",
    "        * [1.1.2-计算流程](#1.1.2-计算流程)\n",
    "    * [1.2-线性回归尝试](#1.2-线性回归尝试) "
   ]
  },
  {
   "cell_type": "code",
   "execution_count": 5,
   "id": "477f7623",
   "metadata": {
    "scrolled": true
   },
   "outputs": [
    {
     "name": "stdout",
     "output_type": "stream",
     "text": [
      "1.13.0+cu117\n"
     ]
    }
   ],
   "source": [
    "import torch\n",
    "import numpy as np\n",
    "\n",
    "print(torch.__version__)"
   ]
  },
  {
   "cell_type": "markdown",
   "id": "9a57d8fc",
   "metadata": {},
   "source": [
    "# 0.1-基本使用\n",
    "[👆](#jump)"
   ]
  },
  {
   "cell_type": "code",
   "execution_count": 2,
   "id": "df4c1e03",
   "metadata": {},
   "outputs": [
    {
     "name": "stdout",
     "output_type": "stream",
     "text": [
      "tensor([[1.6811e+03, 7.3148e-43, 1.6811e+03],\n",
      "        [7.3148e-43, 1.6811e+03, 7.3148e-43],\n",
      "        [1.6811e+03, 7.3148e-43, 1.6811e+03],\n",
      "        [7.3148e-43, 1.6811e+03, 7.3148e-43],\n",
      "        [1.6811e+03, 7.3148e-43, 1.6811e+03]])\n"
     ]
    }
   ],
   "source": [
    "m1 = torch.empty(5, 3)\n",
    "print(m1)"
   ]
  },
  {
   "cell_type": "code",
   "execution_count": 3,
   "id": "adf9ac3f",
   "metadata": {},
   "outputs": [
    {
     "name": "stdout",
     "output_type": "stream",
     "text": [
      "tensor([[0.5606, 0.2570, 0.3257],\n",
      "        [0.6105, 0.6487, 0.1861],\n",
      "        [0.6526, 0.0969, 0.7644],\n",
      "        [0.6740, 0.8087, 0.5831],\n",
      "        [0.4222, 0.3694, 0.7947]])\n"
     ]
    }
   ],
   "source": [
    "m2 = torch.rand(5, 3)\n",
    "print(m2)"
   ]
  },
  {
   "cell_type": "code",
   "execution_count": 4,
   "id": "a354f4e6",
   "metadata": {},
   "outputs": [
    {
     "name": "stdout",
     "output_type": "stream",
     "text": [
      "tensor([[0, 0, 0],\n",
      "        [0, 0, 0],\n",
      "        [0, 0, 0],\n",
      "        [0, 0, 0],\n",
      "        [0, 0, 0]], dtype=torch.int32)\n",
      "torch.Size([5, 3])\n"
     ]
    }
   ],
   "source": [
    "m3 = torch.zeros(5, 3, dtype=torch.int)\n",
    "print(m3)\n",
    "print(m3.size())"
   ]
  },
  {
   "cell_type": "code",
   "execution_count": 5,
   "id": "b7a0f4a7",
   "metadata": {},
   "outputs": [
    {
     "name": "stdout",
     "output_type": "stream",
     "text": [
      "tensor([0.2570, 0.6487, 0.0969, 0.8087, 0.3694])\n",
      "tensor([0.6526, 0.0969, 0.7644])\n"
     ]
    }
   ],
   "source": [
    "print(m2[:, 1])\n",
    "print(m2[2, :])"
   ]
  },
  {
   "cell_type": "code",
   "execution_count": 6,
   "id": "526b4312",
   "metadata": {},
   "outputs": [
    {
     "name": "stdout",
     "output_type": "stream",
     "text": [
      "torch.Size([16])\n",
      "torch.Size([2, 8])\n"
     ]
    }
   ],
   "source": [
    "mm1 = torch.randn(4, 4)\n",
    "mm2 = mm1.view(16)\n",
    "mm3 = mm1.view(-1, 8)\n",
    "print(mm2.size())\n",
    "print(mm3.size())"
   ]
  },
  {
   "cell_type": "markdown",
   "id": "501a9e5d",
   "metadata": {},
   "source": [
    "# 0.2-与numpy转换\n",
    "[👆](#jump)"
   ]
  },
  {
   "cell_type": "code",
   "execution_count": 7,
   "id": "e0d4d122",
   "metadata": {},
   "outputs": [
    {
     "name": "stdout",
     "output_type": "stream",
     "text": [
      "[1. 1. 1. 1. 1.]\n"
     ]
    }
   ],
   "source": [
    "a = torch.ones(5)\n",
    "b = a.numpy()\n",
    "print(b)"
   ]
  },
  {
   "cell_type": "code",
   "execution_count": 8,
   "id": "e2f5c789",
   "metadata": {},
   "outputs": [
    {
     "name": "stdout",
     "output_type": "stream",
     "text": [
      "tensor([1., 1., 1., 1.], dtype=torch.float64)\n"
     ]
    }
   ],
   "source": [
    "c = np.ones(4)\n",
    "d = torch.from_numpy(c)\n",
    "print(d)"
   ]
  },
  {
   "cell_type": "markdown",
   "id": "24032148",
   "metadata": {},
   "source": [
    "# 1.1-梯度计算\n",
    "## 1.1.1-基本方法\n",
    "[👆](#jump)"
   ]
  },
  {
   "cell_type": "code",
   "execution_count": 2,
   "id": "e7c7338d",
   "metadata": {},
   "outputs": [
    {
     "name": "stdout",
     "output_type": "stream",
     "text": [
      "tensor([[ 0.2628,  0.8341, -0.4854, -2.3951],\n",
      "        [ 0.5408,  0.1925, -0.2718, -1.2567],\n",
      "        [-1.0796, -0.0208,  0.1210,  0.9444]], requires_grad=True)\n",
      "tensor(-0.4718, grad_fn=<SumBackward0>)\n",
      "tensor([[1., 1., 1., 1.],\n",
      "        [1., 1., 1., 1.],\n",
      "        [1., 1., 1., 1.]])\n"
     ]
    }
   ],
   "source": [
    "a = torch.randn(3, 4, requires_grad=True)\n",
    "print(a)\n",
    "\n",
    "b = torch.randn(3, 4, requires_grad=True)\n",
    "t = a + b\n",
    "y = t.sum()\n",
    "print(y)\n",
    "\n",
    "y.backward()\n",
    "print(b.grad)"
   ]
  },
  {
   "cell_type": "markdown",
   "id": "63465b79",
   "metadata": {},
   "source": [
    "## 1.1.2-计算流程\n",
    "[👆](#jump)"
   ]
  },
  {
   "cell_type": "code",
   "execution_count": 3,
   "id": "cab79ec5",
   "metadata": {},
   "outputs": [
    {
     "name": "stdout",
     "output_type": "stream",
     "text": [
      "tensor([1.])\n"
     ]
    }
   ],
   "source": [
    "x = torch.rand(1)\n",
    "b = torch.rand(1, requires_grad=True)\n",
    "w = torch.rand(1, requires_grad=True)\n",
    "y = w * x\n",
    "z = y + b\n",
    "\n",
    "z.backward(retain_graph=True)  # 如果梯度不清零，会累加\n",
    "print(b.grad)"
   ]
  },
  {
   "cell_type": "markdown",
   "id": "9a8c6ef3",
   "metadata": {},
   "source": [
    "# 1.2-线性回归尝试\n",
    "[👆](#jump)"
   ]
  },
  {
   "cell_type": "code",
   "execution_count": 6,
   "id": "32c1cd10",
   "metadata": {},
   "outputs": [
    {
     "data": {
      "text/plain": [
       "(11, 1)"
      ]
     },
     "execution_count": 6,
     "metadata": {},
     "output_type": "execute_result"
    }
   ],
   "source": [
    "x_values = [i for i in range(11)]\n",
    "x_train = np.array(x_values, dtype=np.float32)\n",
    "x_train = x_train.reshape(-1, 1)\n",
    "x_train.shape"
   ]
  },
  {
   "cell_type": "code",
   "execution_count": 7,
   "id": "aee06e16",
   "metadata": {},
   "outputs": [
    {
     "data": {
      "text/plain": [
       "(11, 1)"
      ]
     },
     "execution_count": 7,
     "metadata": {},
     "output_type": "execute_result"
    }
   ],
   "source": [
    "y_values = [2*i+i for i in x_values]\n",
    "y_train = np.array(y_values, dtype=np.float32)\n",
    "y_train = y_train.reshape(-1, 1)\n",
    "y_train.shape"
   ]
  },
  {
   "cell_type": "code",
   "execution_count": 8,
   "id": "579007bb",
   "metadata": {},
   "outputs": [],
   "source": [
    "import torch.nn as nn"
   ]
  },
  {
   "cell_type": "code",
   "execution_count": 9,
   "id": "be08bb3d",
   "metadata": {},
   "outputs": [],
   "source": [
    "class LinearRegressionModel(nn.Module):\n",
    "    def __init__(self, input_dim, output_dim):\n",
    "        super(LinearRegressionModel, self).__init__()\n",
    "        self.linear = nn.Linear(input_dim, output_dim)\n",
    "\n",
    "    def forward(self, x):\n",
    "        out = self.linear(x)\n",
    "        return out"
   ]
  },
  {
   "cell_type": "code",
   "execution_count": 10,
   "id": "92de7239",
   "metadata": {},
   "outputs": [],
   "source": [
    "input_dim = 1\n",
    "output_dim = 1\n",
    "\n",
    "model = LinearRegressionModel(input_dim, output_dim)"
   ]
  },
  {
   "cell_type": "code",
   "execution_count": 11,
   "id": "0889fce1",
   "metadata": {},
   "outputs": [
    {
     "data": {
      "text/plain": [
       "LinearRegressionModel(\n",
       "  (linear): Linear(in_features=1, out_features=1, bias=True)\n",
       ")"
      ]
     },
     "execution_count": 11,
     "metadata": {},
     "output_type": "execute_result"
    }
   ],
   "source": [
    "model"
   ]
  },
  {
   "cell_type": "markdown",
   "id": "8e840cb1",
   "metadata": {},
   "source": [
    "#### 指定参数和损失函数"
   ]
  },
  {
   "cell_type": "code",
   "execution_count": 12,
   "id": "446f00a9",
   "metadata": {},
   "outputs": [],
   "source": [
    "epoch = 1000\n",
    "learning_rate = 0.01\n",
    "optimizer = torch.optim.SGD(model.parameters(), lr=learning_rate)  \n",
    "criterion = nn.MSELoss()"
   ]
  },
  {
   "cell_type": "code",
   "execution_count": null,
   "id": "04493cef",
   "metadata": {},
   "outputs": [],
   "source": [
    "for epoch in range(epochs):\n",
    "    epoch += 1\n",
    "    \n",
    "    inputs = torch.from_numpy(x_train)\n",
    "    labels = torch.from_numpy(y_train)\n",
    "    "
   ]
  }
 ],
 "metadata": {
  "kernelspec": {
   "display_name": "Python 3 (ipykernel)",
   "language": "python",
   "name": "python3"
  },
  "language_info": {
   "codemirror_mode": {
    "name": "ipython",
    "version": 3
   },
   "file_extension": ".py",
   "mimetype": "text/x-python",
   "name": "python",
   "nbconvert_exporter": "python",
   "pygments_lexer": "ipython3",
   "version": "3.10.6"
  }
 },
 "nbformat": 4,
 "nbformat_minor": 5
}
